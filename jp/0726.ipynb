{
 "cells": [
  {
   "cell_type": "markdown",
   "id": "1d710eda",
   "metadata": {},
   "source": [
    "# 0726 온라인 실습실"
   ]
  },
  {
   "cell_type": "code",
   "execution_count": 103,
   "id": "7794a458",
   "metadata": {},
   "outputs": [
    {
     "name": "stdout",
     "output_type": "stream",
     "text": [
      "소금물의 농도(%)와 소금물의 양(g)을 입력하십시오:1%400g\n",
      "소금물의 농도(%)와 소금물의 양(g)을 입력하십시오:8%300g\n",
      "소금물의 농도(%)와 소금물의 양(g)을 입력하십시오:Done\n",
      "28.0\n",
      "4.0%700g\n"
     ]
    }
   ],
   "source": [
    "mg_all = []\n",
    "\n",
    "for i in range(5):\n",
    "    mg = list(map(str, input('소금물의 농도(%)와 소금물의 양(g)을 입력하십시오:').strip('g').split('%')))\n",
    "    mg_all.append(mg)\n",
    "    \n",
    "    if mg == [\"Done\"]:\n",
    "        mg_all.pop()\n",
    "        break\n",
    "\n",
    "        \n",
    "sum_cc = 0\n",
    "for i in range(len(mg_all)):\n",
    "    sum_cc += int(mg_all[i][0])/100 * int(mg_all[i][1])\n",
    "\n",
    "sum_g = 0\n",
    "for i in range(len(mg_all)):\n",
    "    sum_g += int(mg_all[i][1])\n",
    "    \n",
    "cc = round((sum_cc / sum_g) * 100, 1)\n",
    "\n",
    "print(f'{cc}%{sum_g}g')"
   ]
  },
  {
   "cell_type": "code",
   "execution_count": null,
   "id": "e75fe97d",
   "metadata": {},
   "outputs": [],
   "source": []
  },
  {
   "cell_type": "markdown",
   "id": "50f3272e",
   "metadata": {},
   "source": [
    "# 0726 Practice"
   ]
  },
  {
   "cell_type": "code",
   "execution_count": 67,
   "id": "e6a7b32d",
   "metadata": {},
   "outputs": [
    {
     "name": "stdout",
     "output_type": "stream",
     "text": [
      "================================\n",
      "        Battle Ship Game        \n",
      "            START !!            \n",
      "================================\n",
      "배를 위치시킬 시작점을 고르시오. :4\n",
      "-----------------------------------------------------------------------------\n",
      "<Information Board>\n",
      "플레이어의 해역:  [0, 0, 0, 1, 1, 1, 0, 0, 0, 0, 0, 0, 0, 0, 0]\n",
      "플레이어의 공격 기록:  [False, False, False, False, False, False, False, False, False, False, False, False, False, False, False]\n",
      "-----------------------------------------------------------------------------\n",
      "공격할 위치를 선택하세요. :3\n",
      "\n",
      "<1라운드 결과!>\n",
      "플레이어는 컴퓨터의 해역 3번째 칸을 공격하였으나, 공격에 실패하였습니다!\n",
      "\n",
      "<2라운드 결과!>\n",
      "컴퓨터는 플레이어의 해역 2번째 칸을 공격하였으나, 공격에 실패하였습니다!\n",
      "공격할 위치를 선택하세요. :2\n",
      "\n",
      "<3라운드 결과!>\n",
      "플레이어는 컴퓨터의 해역 2번째 칸을 공격하였으나, 공격에 실패하였습니다!\n",
      "\n",
      "<4라운드 결과!>\n",
      "컴퓨터는 플레이어의 해역 14번째 칸을 공격하였으나, 공격에 실패하였습니다!\n",
      "공격할 위치를 선택하세요. :5\n",
      "\n",
      "<5라운드 결과!>\n",
      "플레이어는 컴퓨터의 해역 5번째 칸을 공격하였으나, 공격에 실패하였습니다!\n",
      "\n",
      "<6라운드 결과!>\n",
      "컴퓨터는 플레이어의 해역 4번째 칸을 공격하였고, 플레이어의 배는 피격되었습니다.\n",
      "게임이 종료되었습니다! 6라운드 만에 컴퓨터의 승리입니다!\n"
     ]
    }
   ],
   "source": [
    "import random  # 랜덤 모듈 활용\n",
    "\n",
    "print(\"================================\")\n",
    "print(\"        Battle Ship Game        \")\n",
    "print(\"            START !!            \")\n",
    "print(\"================================\")\n",
    "\n",
    "# 필요에 따라 추가적으로 함수를 만들어 자유롭게 활용할 수 있습니다.\n",
    "# 각자의 해역에 배를 위치시키는 함수\n",
    "def set_ship(index, sea):\n",
    "    pass\n",
    "\n",
    "\n",
    "player_sea = [0] * 15  # 플레이어의 해역\n",
    "player_attacked = [False] * 15  # 플레이어의 공격 위치 기록\n",
    "\n",
    "computer_sea = [0] * 15  # 컴퓨터의 해역\n",
    "computer_attacked = [False] * 15  # 컴퓨터의 공격 위치 기록\n",
    "\n",
    "round = 1  # 게임 라운드\n",
    "\n",
    "# 1. 게임 준비\n",
    "while True:\n",
    "    # 1-1) 플레이어의 배 시작 위치 고르기\n",
    "    player_index = int(input('배를 위치시킬 시작점을 고르시오. :'))\n",
    "\n",
    "    # 1-2) 범위를 벗어난 시작점을 고른 경우\n",
    "    if player_index > 13 or player_index < 1:\n",
    "        print('-----해당 위치에는 배를 둘 수 없습니다.-----')\n",
    "\n",
    "    else:\n",
    "        break\n",
    "\n",
    "\n",
    "# 1-3) 컴퓨터의 배 시작 위치를 랜덤으로 지정합니다.\n",
    "\n",
    "computer_index = random.randint(1, 13)\n",
    "\n",
    "\n",
    "# 1-4) 플레이어와 컴퓨터의 해역에 각각 배 위치시키기\n",
    "\n",
    "\n",
    "def set_ship(index, sea):\n",
    "\n",
    "    for i in range(index - 1, index + 2):\n",
    "        sea[i] = 1\n",
    "\n",
    "\n",
    "set_ship(player_index, player_sea)\n",
    "set_ship(computer_index, computer_sea)\n",
    "\n",
    "computer_attack_range = list(range(1, 16))\n",
    "\n",
    "# 2. 라운드 진행\n",
    "while True:\n",
    "    # 2-1) 플레이어 공격\n",
    "    print(\n",
    "        '-----------------------------------------------------------------------------'\n",
    "    )\n",
    "    print('<Information Board>')\n",
    "    print('플레이어의 해역: ', player_sea)\n",
    "    print('플레이어의 공격 기록: ', player_attacked)\n",
    "    print(\n",
    "        '-----------------------------------------------------------------------------'\n",
    "    )\n",
    "\n",
    "    # 2-2) 플레이어의 공격 위치 선택\n",
    "    while True:\n",
    "        player_attack_index = int(input('공격할 위치를 선택하세요. :'))\n",
    "\n",
    "        if player_attack_index > 15:\n",
    "            print('해역의 범위에서 벗어난 위치를 선택하셨습니다. 다시 선택해 주세요.')\n",
    "\n",
    "        elif player_attacked[player_attack_index - 1] == True:\n",
    "            print('이미 공격한 위치를 선택하셨습니다. 다시 선택해 주세요.')\n",
    "\n",
    "        else:\n",
    "            break\n",
    "\n",
    "    # 2-3) 플레이어의 공격이 성공한 경우\n",
    "    if computer_sea[player_attack_index - 1] == 1:\n",
    "        print('')\n",
    "        print(f'<{round}라운드 결과!>')\n",
    "        print('컴퓨터의 해역 : ', computer_sea)\n",
    "        print(f'플레이어는 컴퓨터의 해역 {player_attack_index}번째 칸을 공격하였고, 컴퓨터의 배는 피격되었습니다.')\n",
    "        print(f'게임이 종료되었습니다. {round}라운드 만에 플레이어의 승리입니다!')\n",
    "        break\n",
    "\n",
    "    # 2-4) 플레이어의 공격이 실패한 경우\n",
    "\n",
    "    else:\n",
    "        player_attacked[player_attack_index - 1] = True\n",
    "        print('')\n",
    "        print(f'<{round}라운드 결과!>')\n",
    "        print(f'플레이어는 컴퓨터의 해역 {player_attack_index}번째 칸을 공격하였으나, 공격에 실패하였습니다!')\n",
    "\n",
    "    # 2-5) 컴퓨터의 공격 위치 지정\n",
    "    # 컴퓨터가 공격하지 않은 위치를 나타내는 리스트\n",
    "\n",
    "    while True:\n",
    "        computer_attack_index = random.sample(computer_attack_range, 1)[0]\n",
    "        if computer_attacked[computer_attack_index - 1] == True:\n",
    "            continue\n",
    "        else:\n",
    "            break\n",
    "\n",
    "    # 2-6) 컴퓨터의 공격이 성공한 경우\n",
    "    if player_sea[computer_attack_index - 1] == 1:\n",
    "        print('')\n",
    "        print(f'<{round}라운드 결과!>')\n",
    "        print(f'컴퓨터는 플레이어의 해역 {computer_attack_index}번째 칸을 공격하였고, 플레이어의 배는 피격되었습니다.')\n",
    "        print(f'게임이 종료되었습니다! {round}라운드 만에 컴퓨터의 승리입니다!')\n",
    "        break\n",
    "\n",
    "    # 2-7) 컴퓨터의 공격이 실패한 경우\n",
    "    else:\n",
    "        computer_attacked[computer_attack_index - 1] = True\n",
    "        print('')\n",
    "        print(f'컴퓨터는 플레이어의 해역 {computer_attack_index}번째 칸을 공격하였으나, 공격에 실패하였습니다!')\n",
    "        round += 1\n"
   ]
  },
  {
   "cell_type": "markdown",
   "id": "eb3e57dd",
   "metadata": {},
   "source": [
    "# 0726 Homework"
   ]
  },
  {
   "cell_type": "code",
   "execution_count": 1,
   "id": "aa7f39b3",
   "metadata": {},
   "outputs": [
    {
     "name": "stdout",
     "output_type": "stream",
     "text": [
      "None\n"
     ]
    }
   ],
   "source": [
    "a = [2, 4, 1, 5, 3]\n",
    "print(a.sort())"
   ]
  },
  {
   "cell_type": "code",
   "execution_count": 3,
   "id": "85c9bfce",
   "metadata": {},
   "outputs": [
    {
     "name": "stdout",
     "output_type": "stream",
     "text": [
      "[1, 2, 3, 4, 5]\n"
     ]
    }
   ],
   "source": [
    "print(sorted(a))"
   ]
  },
  {
   "cell_type": "code",
   "execution_count": 10,
   "id": "dd106fc0",
   "metadata": {},
   "outputs": [
    {
     "name": "stdout",
     "output_type": "stream",
     "text": [
      "['starbucks', 'tomntoms', 'hollys']\n",
      "['starbucks', 'tomntoms', 'hollys', 'banapresso']\n"
     ]
    }
   ],
   "source": [
    "cafe = ['starbucks', 'tomntoms', 'hollys']\n",
    "print(cafe)  # ['starbucks', 'tomntoms', 'hollys']\n",
    "\n",
    "\n",
    "cafe.append('banapresso')\n",
    "print(cafe)  # ['starbucks', 'tomntoms', 'hollys', 'banapresso']"
   ]
  },
  {
   "cell_type": "code",
   "execution_count": 11,
   "id": "08a86d50",
   "metadata": {},
   "outputs": [
    {
     "name": "stdout",
     "output_type": "stream",
     "text": [
      "['starbucks', 'tomntoms', 'hollys', 'banapresso', 'coffee']\n",
      "['starbucks', 'tomntoms', 'hollys', 'banapresso', 'coffee', 'c', 'u', 'p']\n"
     ]
    }
   ],
   "source": [
    "cafe.extend(['coffee'])\n",
    "print(cafe)  # ['start', 'starbucks', 'tomntoms', 'hollys', 'banapresso', 'end', 'coffee']\n",
    "\n",
    "\n",
    "cafe.extend('cup')\n",
    "print(cafe)  # ['start', 'starbucks', 'tomntoms', 'hollys', 'banapresso', 'end', 'coffee', 'c', 'u', 'p']"
   ]
  },
  {
   "cell_type": "code",
   "execution_count": 12,
   "id": "7bbe75cb",
   "metadata": {},
   "outputs": [
    {
     "name": "stdout",
     "output_type": "stream",
     "text": [
      "[1, 2, 5, 4, 5]\n",
      "[1, 2, 5, 4, 5]\n"
     ]
    }
   ],
   "source": [
    "a = [1, 2, 3, 4, 5]\n",
    "b = a\n",
    "\n",
    "a[2] = 5\n",
    "print(a)  # [1, 2, 5, 4, 5]\n",
    "print(b)  # [1, 2, 5, 4, 5]"
   ]
  },
  {
   "cell_type": "markdown",
   "id": "cfe35e02",
   "metadata": {},
   "source": [
    "# 0726 Workshop"
   ]
  },
  {
   "cell_type": "markdown",
   "id": "3986c512",
   "metadata": {},
   "source": [
    "### 무엇이 중복일까"
   ]
  },
  {
   "cell_type": "code",
   "execution_count": 21,
   "id": "1fa12536",
   "metadata": {},
   "outputs": [],
   "source": [
    "def duplicated_letter(word):\n",
    "    du_word = []\n",
    "    \n",
    "    for i in word:\n",
    "        \n",
    "        if word.count(i) >= 2:\n",
    "            du_word.append(i)\n",
    "            \n",
    "    du_word = list(set(du_word))\n",
    "\n",
    "    return du_word  "
   ]
  },
  {
   "cell_type": "code",
   "execution_count": 22,
   "id": "622b67e2",
   "metadata": {},
   "outputs": [
    {
     "name": "stdout",
     "output_type": "stream",
     "text": [
      "['p']\n",
      "['a', 'n']\n"
     ]
    }
   ],
   "source": [
    "print(duplicated_letter('apple'))\n",
    "print(duplicated_letter('banana'))"
   ]
  },
  {
   "cell_type": "markdown",
   "id": "63a5945c",
   "metadata": {},
   "source": [
    "### 소대소대"
   ]
  },
  {
   "cell_type": "code",
   "execution_count": 34,
   "id": "ac1d7d8b",
   "metadata": {},
   "outputs": [],
   "source": [
    "def low_and_up(word):\n",
    "    word_list = []\n",
    "    words = ''\n",
    "    \n",
    "    for i in range(len(word)):\n",
    "        \n",
    "        if i % 2 == 0:\n",
    "            word_list.append(word[i].lower())\n",
    "            \n",
    "        else:\n",
    "            word_list.append(word[i].upper())\n",
    "            \n",
    "    for i in word_list:\n",
    "        words += i\n",
    "    \n",
    "    return words"
   ]
  },
  {
   "cell_type": "code",
   "execution_count": 35,
   "id": "5d19d73c",
   "metadata": {},
   "outputs": [
    {
     "data": {
      "text/plain": [
       "'aPpLe'"
      ]
     },
     "execution_count": 35,
     "metadata": {},
     "output_type": "execute_result"
    }
   ],
   "source": [
    "low_and_up('apple')"
   ]
  },
  {
   "cell_type": "code",
   "execution_count": 36,
   "id": "3f3a5944",
   "metadata": {},
   "outputs": [
    {
     "data": {
      "text/plain": [
       "'bAnAnA'"
      ]
     },
     "execution_count": 36,
     "metadata": {},
     "output_type": "execute_result"
    }
   ],
   "source": [
    "low_and_up('banana')"
   ]
  },
  {
   "cell_type": "markdown",
   "id": "d614c873",
   "metadata": {},
   "source": [
    "### 솔로 천국 만들기"
   ]
  },
  {
   "cell_type": "code",
   "execution_count": 83,
   "id": "dc1cd294",
   "metadata": {},
   "outputs": [],
   "source": [
    "def lonely(nums):\n",
    "\n",
    "    for i in range(len(nums) - 1):\n",
    "        \n",
    "        if nums[i] == nums[i + 1]:\n",
    "            nums[i] = ''\n",
    "            \n",
    "    while '' in nums:\n",
    "        nums.remove('')      \n",
    "            \n",
    "    return nums"
   ]
  },
  {
   "cell_type": "code",
   "execution_count": 84,
   "id": "047e74c2",
   "metadata": {},
   "outputs": [
    {
     "data": {
      "text/plain": [
       "[1, 3, 0, 1]"
      ]
     },
     "execution_count": 84,
     "metadata": {},
     "output_type": "execute_result"
    }
   ],
   "source": [
    "lonely([1, 1, 3, 3, 0, 1, 1])"
   ]
  },
  {
   "cell_type": "code",
   "execution_count": 85,
   "id": "94762f20",
   "metadata": {},
   "outputs": [
    {
     "data": {
      "text/plain": [
       "[4, 3]"
      ]
     },
     "execution_count": 85,
     "metadata": {},
     "output_type": "execute_result"
    }
   ],
   "source": [
    "lonely([4, 4, 4, 3, 3])"
   ]
  },
  {
   "cell_type": "code",
   "execution_count": 106,
   "id": "e9e64561",
   "metadata": {},
   "outputs": [
    {
     "name": "stdout",
     "output_type": "stream",
     "text": [
      "[0, 1, 0]\n"
     ]
    }
   ],
   "source": [
    "## 동준님 코드\n",
    "# 솔로 천국 만들기 기발하게 푸는 방법\n",
    "\n",
    "graph = [0, 0, 0, 0, 1, 1, 1, 0, 0, 0]\n",
    "\n",
    "idx = 0\n",
    "while True:\n",
    "    if graph[idx] == graph[idx+1]:\n",
    "        graph.pop(idx)\n",
    "    else:\n",
    "        idx += 1\n",
    "    if len(graph)-1 == idx:\n",
    "        break\n",
    "\n",
    "print(graph)\n",
    "\n"
   ]
  },
  {
   "cell_type": "code",
   "execution_count": null,
   "id": "9b83d9a2",
   "metadata": {},
   "outputs": [],
   "source": []
  }
 ],
 "metadata": {
  "kernelspec": {
   "display_name": "Python 3 (ipykernel)",
   "language": "python",
   "name": "python3"
  },
  "language_info": {
   "codemirror_mode": {
    "name": "ipython",
    "version": 3
   },
   "file_extension": ".py",
   "mimetype": "text/x-python",
   "name": "python",
   "nbconvert_exporter": "python",
   "pygments_lexer": "ipython3",
   "version": "3.9.13"
  },
  "toc": {
   "base_numbering": 1,
   "nav_menu": {},
   "number_sections": true,
   "sideBar": true,
   "skip_h1_title": false,
   "title_cell": "Table of Contents",
   "title_sidebar": "Contents",
   "toc_cell": false,
   "toc_position": {},
   "toc_section_display": true,
   "toc_window_display": false
  }
 },
 "nbformat": 4,
 "nbformat_minor": 5
}
