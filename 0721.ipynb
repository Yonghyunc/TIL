{
 "cells": [
  {
   "cell_type": "markdown",
   "id": "a9b60c8b",
   "metadata": {},
   "source": [
    "# 0721 practice"
   ]
  },
  {
   "cell_type": "code",
   "execution_count": 1,
   "id": "f47a2b2f",
   "metadata": {},
   "outputs": [
    {
     "name": "stdout",
     "output_type": "stream",
     "text": [
      "================================\n",
      "        Up and Down Game        \n",
      "================================\n"
     ]
    },
    {
     "ename": "KeyboardInterrupt",
     "evalue": "Interrupted by user",
     "output_type": "error",
     "traceback": [
      "\u001b[1;31m---------------------------------------------------------------------------\u001b[0m",
      "\u001b[1;31mKeyboardInterrupt\u001b[0m                         Traceback (most recent call last)",
      "Input \u001b[1;32mIn [1]\u001b[0m, in \u001b[0;36m<cell line: 5>\u001b[1;34m()\u001b[0m\n\u001b[0;32m     11\u001b[0m counts \u001b[38;5;241m=\u001b[39m \u001b[38;5;241m0\u001b[39m  \u001b[38;5;66;03m# 몇 번만에 정답을 맞혔는지 담는 변수    \u001b[39;00m\n\u001b[0;32m     13\u001b[0m \u001b[38;5;28;01mwhile\u001b[39;00m is_playing:\n\u001b[1;32m---> 14\u001b[0m     num \u001b[38;5;241m=\u001b[39m \u001b[38;5;28mint\u001b[39m(\u001b[38;5;28;43minput\u001b[39;49m\u001b[43m(\u001b[49m\u001b[38;5;124;43m'\u001b[39;49m\u001b[38;5;124;43m1이상 10000이하의 숫자를 입력하세요. : \u001b[39;49m\u001b[38;5;124;43m'\u001b[39;49m\u001b[43m)\u001b[49m)\n\u001b[0;32m     16\u001b[0m     \u001b[38;5;28;01mif\u001b[39;00m num \u001b[38;5;241m<\u001b[39m \u001b[38;5;241m0\u001b[39m \u001b[38;5;129;01mor\u001b[39;00m num \u001b[38;5;241m>\u001b[39m \u001b[38;5;241m10001\u001b[39m:\n\u001b[0;32m     17\u001b[0m         \u001b[38;5;28mprint\u001b[39m(\u001b[38;5;124m'\u001b[39m\u001b[38;5;124m잘못된 범위의 숫자를 입력하셨습니다. 다시 입력해주세요\u001b[39m\u001b[38;5;124m'\u001b[39m)\n",
      "File \u001b[1;32m~\\AppData\\Local\\Programs\\Python\\Python39\\lib\\site-packages\\ipykernel\\kernelbase.py:1177\u001b[0m, in \u001b[0;36mKernel.raw_input\u001b[1;34m(self, prompt)\u001b[0m\n\u001b[0;32m   1173\u001b[0m \u001b[38;5;28;01mif\u001b[39;00m \u001b[38;5;129;01mnot\u001b[39;00m \u001b[38;5;28mself\u001b[39m\u001b[38;5;241m.\u001b[39m_allow_stdin:\n\u001b[0;32m   1174\u001b[0m     \u001b[38;5;28;01mraise\u001b[39;00m StdinNotImplementedError(\n\u001b[0;32m   1175\u001b[0m         \u001b[38;5;124m\"\u001b[39m\u001b[38;5;124mraw_input was called, but this frontend does not support input requests.\u001b[39m\u001b[38;5;124m\"\u001b[39m\n\u001b[0;32m   1176\u001b[0m     )\n\u001b[1;32m-> 1177\u001b[0m \u001b[38;5;28;01mreturn\u001b[39;00m \u001b[38;5;28;43mself\u001b[39;49m\u001b[38;5;241;43m.\u001b[39;49m\u001b[43m_input_request\u001b[49m\u001b[43m(\u001b[49m\n\u001b[0;32m   1178\u001b[0m \u001b[43m    \u001b[49m\u001b[38;5;28;43mstr\u001b[39;49m\u001b[43m(\u001b[49m\u001b[43mprompt\u001b[49m\u001b[43m)\u001b[49m\u001b[43m,\u001b[49m\n\u001b[0;32m   1179\u001b[0m \u001b[43m    \u001b[49m\u001b[38;5;28;43mself\u001b[39;49m\u001b[38;5;241;43m.\u001b[39;49m\u001b[43m_parent_ident\u001b[49m\u001b[43m[\u001b[49m\u001b[38;5;124;43m\"\u001b[39;49m\u001b[38;5;124;43mshell\u001b[39;49m\u001b[38;5;124;43m\"\u001b[39;49m\u001b[43m]\u001b[49m\u001b[43m,\u001b[49m\n\u001b[0;32m   1180\u001b[0m \u001b[43m    \u001b[49m\u001b[38;5;28;43mself\u001b[39;49m\u001b[38;5;241;43m.\u001b[39;49m\u001b[43mget_parent\u001b[49m\u001b[43m(\u001b[49m\u001b[38;5;124;43m\"\u001b[39;49m\u001b[38;5;124;43mshell\u001b[39;49m\u001b[38;5;124;43m\"\u001b[39;49m\u001b[43m)\u001b[49m\u001b[43m,\u001b[49m\n\u001b[0;32m   1181\u001b[0m \u001b[43m    \u001b[49m\u001b[43mpassword\u001b[49m\u001b[38;5;241;43m=\u001b[39;49m\u001b[38;5;28;43;01mFalse\u001b[39;49;00m\u001b[43m,\u001b[49m\n\u001b[0;32m   1182\u001b[0m \u001b[43m\u001b[49m\u001b[43m)\u001b[49m\n",
      "File \u001b[1;32m~\\AppData\\Local\\Programs\\Python\\Python39\\lib\\site-packages\\ipykernel\\kernelbase.py:1219\u001b[0m, in \u001b[0;36mKernel._input_request\u001b[1;34m(self, prompt, ident, parent, password)\u001b[0m\n\u001b[0;32m   1216\u001b[0m             \u001b[38;5;28;01mbreak\u001b[39;00m\n\u001b[0;32m   1217\u001b[0m \u001b[38;5;28;01mexcept\u001b[39;00m \u001b[38;5;167;01mKeyboardInterrupt\u001b[39;00m:\n\u001b[0;32m   1218\u001b[0m     \u001b[38;5;66;03m# re-raise KeyboardInterrupt, to truncate traceback\u001b[39;00m\n\u001b[1;32m-> 1219\u001b[0m     \u001b[38;5;28;01mraise\u001b[39;00m \u001b[38;5;167;01mKeyboardInterrupt\u001b[39;00m(\u001b[38;5;124m\"\u001b[39m\u001b[38;5;124mInterrupted by user\u001b[39m\u001b[38;5;124m\"\u001b[39m) \u001b[38;5;28;01mfrom\u001b[39;00m \u001b[38;5;28mNone\u001b[39m\n\u001b[0;32m   1220\u001b[0m \u001b[38;5;28;01mexcept\u001b[39;00m \u001b[38;5;167;01mException\u001b[39;00m:\n\u001b[0;32m   1221\u001b[0m     \u001b[38;5;28mself\u001b[39m\u001b[38;5;241m.\u001b[39mlog\u001b[38;5;241m.\u001b[39mwarning(\u001b[38;5;124m\"\u001b[39m\u001b[38;5;124mInvalid Message:\u001b[39m\u001b[38;5;124m\"\u001b[39m, exc_info\u001b[38;5;241m=\u001b[39m\u001b[38;5;28;01mTrue\u001b[39;00m)\n",
      "\u001b[1;31mKeyboardInterrupt\u001b[0m: Interrupted by user"
     ]
    }
   ],
   "source": [
    "import random\n",
    "\n",
    "is_playing = True\n",
    "\n",
    "while is_playing:\n",
    "    print('================================')\n",
    "    print('        Up and Down Game        ')\n",
    "    print('================================')\n",
    "\n",
    "    answer = random.randint(1, 10000)  # 1이상 10000이하의 난수\n",
    "    counts = 0  # 몇 번만에 정답을 맞혔는지 담는 변수    \n",
    "    \n",
    "    while is_playing:\n",
    "        num = int(input('1이상 10000이하의 숫자를 입력하세요. : '))\n",
    "        \n",
    "        if num < 0 or num > 10001:\n",
    "            print('잘못된 범위의 숫자를 입력하셨습니다. 다시 입력해주세요')\n",
    "        \n",
    "        else:\n",
    "            if num == answer:\n",
    "                print(f'Correct!!! {counts + 1}회 만에 정답을 맞히셨습니다.')\n",
    "                break\n",
    "        \n",
    "            elif num > answer:\n",
    "                print('Down!!!')\n",
    "                counts += 1\n",
    "            \n",
    "            else:\n",
    "                print('Up!!!')\n",
    "                counts += 1\n",
    "\n",
    "    re = input('게임을 재시작 하시려면 y, 종료하시려면 n을 입력하세요. : ')\n",
    "    if re == 'n':\n",
    "        print('이용해주셔서 감사합니다. 게임을 종료합니다.')\n",
    "        break\n",
    "    elif re == 'y':\n",
    "        pass\n",
    "    else:\n",
    "        print('잘못된 값을 입력하셨습니다. 게임을 종료합니다')\n",
    "        break\n",
    "    "
   ]
  },
  {
   "cell_type": "code",
   "execution_count": 102,
   "id": "d9532cda",
   "metadata": {},
   "outputs": [
    {
     "name": "stdout",
     "output_type": "stream",
     "text": [
      "=================================\n",
      "         Vending Machine         \n",
      "=================================\n",
      "[Menu]\n",
      "1. 콜라 500원\n",
      "2. 사이다 700원\n",
      "3. 레모네이드 4500원\n",
      "4. 오렌지주스 2000원\n",
      "5. 초코우유 1200원\n",
      "6. 아메리카노 3600원\n",
      "=================================\n",
      "\n",
      "금액을 넣어주세요.(그만 넣으시려면 0을 입력하세요.) : 1000\n",
      "현재 누적 금액은 1000원입니다.\n",
      "금액을 넣어주세요.(그만 넣으시려면 0을 입력하세요.) : 0\n",
      "1000원으로 구매 가능한 메뉴는 다음과 같습니다.\n",
      "1. 콜라 500원\n",
      "2. 사이다 700원\n",
      "구매하실 메뉴의 번호를 입력하세요. : 4\n",
      "구매할 수 없는 메뉴입니다.\n",
      "구매하실 메뉴의 번호를 입력하세요. : 3\n",
      "구매할 수 없는 메뉴입니다.\n",
      "구매하실 메뉴의 번호를 입력하세요. : 5\n",
      "구매할 수 없는 메뉴입니다.\n",
      "구매하실 메뉴의 번호를 입력하세요. : 1\n",
      "콜라를 구매하셨습니다\n",
      "거스름돈은 500입니다. 감사합니다.\n"
     ]
    }
   ],
   "source": [
    "print('=================================')\n",
    "print('         Vending Machine         ')\n",
    "print('=================================')\n",
    "print('[Menu]')\n",
    "print('1. 콜라 500원')\n",
    "print('2. 사이다 700원')\n",
    "print('3. 레모네이드 4500원')\n",
    "print('4. 오렌지주스 2000원')\n",
    "print('5. 초코우유 1200원')\n",
    "print('6. 아메리카노 3600원')\n",
    "print('=================================')\n",
    "\n",
    "menus = ['콜라', '사이다', '레모네이드', '오렌지주스', '초코우유', '아메리카노']  # 메뉴 이름\n",
    "costs = [500, 700, 4500, 2000, 1200, 3600]  # 메뉴 가격\n",
    "budget = 0  # 자판기에 넣은 총 누적 금액\n",
    "\n",
    "all = 0\n",
    "while True:\n",
    "    print()\n",
    "    while True:\n",
    "        money = int(input('금액을 넣어주세요.(그만 넣으시려면 0을 입력하세요.) : '))\n",
    "    \n",
    "        if money > 0:\n",
    "            all += money\n",
    "            print(f'현재 누적 금액은 {all}원입니다.')\n",
    "        elif money < 0:\n",
    "            print('금액은 1원 이상 넣어주세요.')\n",
    "        else:\n",
    "            break\n",
    "\n",
    "    if all < 500:\n",
    "        print(f'{all}원으로 구매 가능한 메뉴가 없습니다.')\n",
    "        break\n",
    "    else:\n",
    "        print(f'{all}원으로 구매 가능한 메뉴는 다음과 같습니다.')\n",
    "        list_i = list()\n",
    "        for i, v in enumerate(menus):\n",
    "            if all > costs[i]:\n",
    "                print(f'{i + 1}. {menus[i]} {costs[i]}원')\n",
    "                list_i.append(i + 1)\n",
    "    while True:    \n",
    "        num = int(input('구매하실 메뉴의 번호를 입력하세요. : '))  \n",
    "        \n",
    "        for x in range(0, len(list_i)):      \n",
    "            if num == int(list_i[x]):\n",
    "                out = True\n",
    "                print(f'{menus[x]}를 구매하셨습니다')\n",
    "                print(f'거스름돈은 {all - costs[x]}입니다. 감사합니다.')\n",
    "                break \n",
    "                \n",
    "            else:\n",
    "                out = False\n",
    "                pass\n",
    "                \n",
    "        else:\n",
    "            print('구매할 수 없는 메뉴입니다.')\n",
    "    \n",
    "        if out == True:\n",
    "            break\n",
    "            \n",
    "    if out == True:\n",
    "            break"
   ]
  },
  {
   "cell_type": "markdown",
   "id": "0f21bb28",
   "metadata": {},
   "source": [
    "# 0721 homework"
   ]
  },
  {
   "cell_type": "code",
   "execution_count": 105,
   "id": "8c56232c",
   "metadata": {},
   "outputs": [],
   "source": [
    "def ssafy(name, location='서울'):\n",
    "    print(f'{name}의 지역은 {location}입니다.')"
   ]
  },
  {
   "cell_type": "code",
   "execution_count": 106,
   "id": "f3f7c5d9",
   "metadata": {},
   "outputs": [
    {
     "name": "stdout",
     "output_type": "stream",
     "text": [
      "가흔의 지역은 서울입니다.\n"
     ]
    }
   ],
   "source": [
    "ssafy('가흔')"
   ]
  },
  {
   "cell_type": "code",
   "execution_count": 107,
   "id": "5eb0c7e3",
   "metadata": {},
   "outputs": [
    {
     "name": "stdout",
     "output_type": "stream",
     "text": [
      "승현의 지역은 부울경입니다.\n"
     ]
    }
   ],
   "source": [
    "ssafy(location = '부울경', name = '승현')"
   ]
  },
  {
   "cell_type": "code",
   "execution_count": 108,
   "id": "4e5438ca",
   "metadata": {},
   "outputs": [
    {
     "name": "stdout",
     "output_type": "stream",
     "text": [
      "지우의 지역은 서울입니다.\n"
     ]
    }
   ],
   "source": [
    "ssafy('지우', location = '서울')"
   ]
  },
  {
   "cell_type": "code",
   "execution_count": 109,
   "id": "05c43ad2",
   "metadata": {},
   "outputs": [
    {
     "ename": "SyntaxError",
     "evalue": "positional argument follows keyword argument (2147517288.py, line 1)",
     "output_type": "error",
     "traceback": [
      "\u001b[1;36m  Input \u001b[1;32mIn [109]\u001b[1;36m\u001b[0m\n\u001b[1;33m    ssafy(name='승호', '광주')\u001b[0m\n\u001b[1;37m                         ^\u001b[0m\n\u001b[1;31mSyntaxError\u001b[0m\u001b[1;31m:\u001b[0m positional argument follows keyword argument\n"
     ]
    }
   ],
   "source": [
    "ssafy(name='승호', '광주')"
   ]
  },
  {
   "cell_type": "code",
   "execution_count": 121,
   "id": "cc69c006",
   "metadata": {},
   "outputs": [],
   "source": [
    "def my_avg(*numbers):\n",
    "    result = 0\n",
    "    for num in numbers:\n",
    "        result += num\n",
    "    return result / len(numbers)"
   ]
  },
  {
   "cell_type": "code",
   "execution_count": 122,
   "id": "35559b12",
   "metadata": {},
   "outputs": [
    {
     "data": {
      "text/plain": [
       "81.0"
      ]
     },
     "execution_count": 122,
     "metadata": {},
     "output_type": "execute_result"
    }
   ],
   "source": [
    "my_avg(77, 83, 95, 80, 70)"
   ]
  },
  {
   "cell_type": "code",
   "execution_count": 123,
   "id": "e45b8cff",
   "metadata": {},
   "outputs": [
    {
     "name": "stdout",
     "output_type": "stream",
     "text": [
      "10\n"
     ]
    }
   ],
   "source": [
    "def my_func(a, b):\n",
    "    c = a + b\n",
    "    print(c)\n",
    "result = my_func(3, 7)"
   ]
  },
  {
   "cell_type": "code",
   "execution_count": 124,
   "id": "819d9671",
   "metadata": {},
   "outputs": [],
   "source": [
    "def sum(x, y):\n",
    "    x + y\n"
   ]
  },
  {
   "cell_type": "code",
   "execution_count": 126,
   "id": "01aa2cbe",
   "metadata": {},
   "outputs": [
    {
     "name": "stdout",
     "output_type": "stream",
     "text": [
      "None\n"
     ]
    }
   ],
   "source": [
    "print(sum(1, 2))"
   ]
  },
  {
   "cell_type": "markdown",
   "id": "abee1de6",
   "metadata": {},
   "source": [
    "# 0721 workshop"
   ]
  },
  {
   "cell_type": "code",
   "execution_count": 138,
   "id": "98465c6c",
   "metadata": {},
   "outputs": [
    {
     "name": "stdout",
     "output_type": "stream",
     "text": [
      "10\n",
      "1 2 5 10 "
     ]
    }
   ],
   "source": [
    "N = int(input())\n",
    "index = 1\n",
    "while index <= N:\n",
    "    if N % index == 0:\n",
    "        print(index, end=' ')\n",
    "    index += 1"
   ]
  },
  {
   "cell_type": "code",
   "execution_count": 174,
   "id": "f1efbb11",
   "metadata": {},
   "outputs": [],
   "source": [
    "def list_sum(x):\n",
    "    result = 0\n",
    "    for i in x:\n",
    "        result += i\n",
    "    return result"
   ]
  },
  {
   "cell_type": "code",
   "execution_count": 175,
   "id": "0b115b8b",
   "metadata": {},
   "outputs": [
    {
     "name": "stdout",
     "output_type": "stream",
     "text": [
      "15\n"
     ]
    }
   ],
   "source": [
    "print(list_sum([1, 2, 3, 4, 5]))"
   ]
  },
  {
   "cell_type": "code",
   "execution_count": 190,
   "id": "4830a52e",
   "metadata": {},
   "outputs": [],
   "source": [
    "def dict_list_sum(x):\n",
    "    result = 0\n",
    "    for i in x:\n",
    "        result += i['age']\n",
    "    return result"
   ]
  },
  {
   "cell_type": "code",
   "execution_count": 191,
   "id": "3f1ba246",
   "metadata": {},
   "outputs": [
    {
     "data": {
      "text/plain": [
       "16"
      ]
     },
     "execution_count": 191,
     "metadata": {},
     "output_type": "execute_result"
    }
   ],
   "source": [
    "dict_list_sum([{'name' : 'kim', 'age' : 12}, {'name' : 'lee', 'age' : 4}])"
   ]
  },
  {
   "cell_type": "code",
   "execution_count": 281,
   "id": "47117830",
   "metadata": {},
   "outputs": [],
   "source": [
    "def all_list_sum(x):\n",
    "    result = 0\n",
    "    for i in x:\n",
    "        sum_j = 0\n",
    "        for j in range(0, len(i)):\n",
    "            sum_j += i[j]\n",
    "        result += sum_j        \n",
    "    return result"
   ]
  },
  {
   "cell_type": "code",
   "execution_count": 283,
   "id": "c8472df1",
   "metadata": {},
   "outputs": [
    {
     "data": {
      "text/plain": [
       "78"
      ]
     },
     "execution_count": 283,
     "metadata": {},
     "output_type": "execute_result"
    }
   ],
   "source": [
    "all_list_sum([[1], [2, 3], [4, 5, 6], [7, 8, 9, 10], [11, 12]])"
   ]
  },
  {
   "cell_type": "markdown",
   "id": "052ab9a5",
   "metadata": {},
   "source": [
    "# 0721 온라인 실습실"
   ]
  },
  {
   "cell_type": "code",
   "execution_count": 252,
   "id": "fcc26f52",
   "metadata": {},
   "outputs": [
    {
     "name": "stdout",
     "output_type": "stream",
     "text": [
      "[1, 3, 0, 1]\n"
     ]
    }
   ],
   "source": [
    "lst = [1,1,3,3,0,1,1]\n",
    "lst_1= []\n",
    "for i, v in enumerate(lst):\n",
    "    if i == 0 or lst_1[-1] != v:\n",
    "        lst_1.append(v)\n",
    "\n",
    "print(lst_1)"
   ]
  }
 ],
 "metadata": {
  "kernelspec": {
   "display_name": "Python 3 (ipykernel)",
   "language": "python",
   "name": "python3"
  },
  "language_info": {
   "codemirror_mode": {
    "name": "ipython",
    "version": 3
   },
   "file_extension": ".py",
   "mimetype": "text/x-python",
   "name": "python",
   "nbconvert_exporter": "python",
   "pygments_lexer": "ipython3",
   "version": "3.9.13"
  },
  "toc": {
   "base_numbering": 1,
   "nav_menu": {},
   "number_sections": true,
   "sideBar": true,
   "skip_h1_title": false,
   "title_cell": "Table of Contents",
   "title_sidebar": "Contents",
   "toc_cell": false,
   "toc_position": {},
   "toc_section_display": true,
   "toc_window_display": false
  }
 },
 "nbformat": 4,
 "nbformat_minor": 5
}
